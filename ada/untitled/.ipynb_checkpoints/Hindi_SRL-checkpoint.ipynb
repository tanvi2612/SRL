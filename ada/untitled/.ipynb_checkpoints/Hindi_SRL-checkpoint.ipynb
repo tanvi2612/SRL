{
 "cells": [
  {
   "cell_type": "code",
   "execution_count": null,
   "metadata": {},
   "outputs": [],
   "source": [
    "import pandas as pd\n",
    "import numpy as np\n",
    "import sys\n",
    "from sklearn.preprocessing import LabelEncoder\n",
    "import joblib\n",
    "from sklearn.metrics import classification_report, confusion_matrix\n",
    "from sklearn.svm import SVC\n",
    "from sklearn.model_selection import train_test_split"
   ]
  },
  {
   "cell_type": "code",
   "execution_count": null,
   "metadata": {},
   "outputs": [],
   "source": [
    "filepath=\"./expected.csv\"\n",
    "dataset = pd.read_csv(filepath)\n",
    "dataset.head()"
   ]
  },
  {
   "cell_type": "code",
   "execution_count": null,
   "metadata": {},
   "outputs": [],
   "source": []
  },
  {
   "cell_type": "code",
   "execution_count": null,
   "metadata": {},
   "outputs": [],
   "source": []
  },
  {
   "cell_type": "code",
   "execution_count": null,
   "metadata": {},
   "outputs": [],
   "source": [
    "\n",
    "temp = ['chunk','postposition','head-POS','dependency-head','dependency']\n",
    "for curr in temp:\n",
    "    dropped=curr\n",
    "\n",
    "    dropped_fields=['Label','chunk','srl','postposition','head-POS','dependency','dependency-head','predicate']\n",
    "    dropped_fields.remove(dropped)\n",
    "\n",
    "    #remove the current parameter from the parameters that are to be removed\n",
    "    \n",
    "    for i in range(0,300):\n",
    "        dropped_fields.append('dim_{}'.format(i))\n",
    "    \n",
    "    #add all the vector dimensions that must be removed\n",
    "    \n",
    "    target=dataset[['srl']]\n",
    "    vectors=dataset.drop(dropped_fields,axis=1)\n",
    "    \n",
    "    \n",
    "\n",
    "    vals=vectors[dropped].values\n",
    "    vectors[dropped]=LabelEncoder().fit_transform(vals)\n",
    "\n",
    "    targ = target.values\n",
    "    target = LabelEncoder().fit_transform(targ)\n",
    "    \n",
    "    \n",
    "targ\n"
   ]
  },
  {
   "cell_type": "code",
   "execution_count": null,
   "metadata": {},
   "outputs": [],
   "source": []
  },
  {
   "cell_type": "code",
   "execution_count": null,
   "metadata": {},
   "outputs": [],
   "source": []
  }
 ],
 "metadata": {
  "kernelspec": {
   "display_name": "Python 3",
   "language": "python",
   "name": "python3"
  },
  "language_info": {
   "codemirror_mode": {
    "name": "ipython",
    "version": 3
   },
   "file_extension": ".py",
   "mimetype": "text/x-python",
   "name": "python",
   "nbconvert_exporter": "python",
   "pygments_lexer": "ipython3",
   "version": "3.6.8"
  }
 },
 "nbformat": 4,
 "nbformat_minor": 4
}
